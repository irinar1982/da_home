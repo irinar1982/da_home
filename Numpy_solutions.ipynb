{
  "nbformat": 4,
  "nbformat_minor": 0,
  "metadata": {
    "colab": {
      "provenance": []
    },
    "kernelspec": {
      "name": "python3",
      "display_name": "Python 3"
    },
    "language_info": {
      "name": "python"
    }
  },
  "cells": [
    {
      "cell_type": "code",
      "execution_count": null,
      "metadata": {
        "id": "lxDv3ygoYHeQ"
      },
      "outputs": [],
      "source": [
        "# a. Импортируйте библиотеку NumPy\n",
        "import numpy as np"
      ]
    },
    {
      "cell_type": "code",
      "source": [
        "# b. Создайте массив из 10 нулей\n",
        "a = np.zeros(10)\n",
        "print(a)"
      ],
      "metadata": {
        "colab": {
          "base_uri": "https://localhost:8080/"
        },
        "id": "ThKzbj8nY-9Q",
        "outputId": "2f92c7d9-4c82-458a-9efd-4f25162ee02b"
      },
      "execution_count": null,
      "outputs": [
        {
          "output_type": "stream",
          "name": "stdout",
          "text": [
            "[0. 0. 0. 0. 0. 0. 0. 0. 0. 0.]\n"
          ]
        }
      ]
    },
    {
      "cell_type": "code",
      "source": [
        "# c. Создать массив из 10 единиц\n",
        "a = np.ones(10)\n",
        "print(a)"
      ],
      "metadata": {
        "colab": {
          "base_uri": "https://localhost:8080/"
        },
        "id": "zg2rAGisZXOQ",
        "outputId": "9605a61b-23b8-4967-83bb-d515e7b42e96"
      },
      "execution_count": null,
      "outputs": [
        {
          "output_type": "stream",
          "name": "stdout",
          "text": [
            "[1. 1. 1. 1. 1. 1. 1. 1. 1. 1.]\n"
          ]
        }
      ]
    },
    {
      "cell_type": "code",
      "source": [
        "# d. Создать массив из 10 пятерок\n",
        "a = np.array([5, 5, 5, 5, 5, 5, 5, 5, 5, 5])\n",
        "print(a)"
      ],
      "metadata": {
        "colab": {
          "base_uri": "https://localhost:8080/"
        },
        "id": "y1lvjEKOZpKZ",
        "outputId": "42f3dea6-2c36-48ba-fc1b-ff8d8183a6cd"
      },
      "execution_count": null,
      "outputs": [
        {
          "output_type": "stream",
          "name": "stdout",
          "text": [
            "[5 5 5 5 5 5 5 5 5 5]\n"
          ]
        }
      ]
    },
    {
      "cell_type": "code",
      "source": [
        "# e. Создать массив из целых чисел от 10 до 50\n",
        "a = np.arange(10,51)\n",
        "print(a)"
      ],
      "metadata": {
        "colab": {
          "base_uri": "https://localhost:8080/"
        },
        "id": "FP-vdGr8cf9a",
        "outputId": "dfa1c71f-fd0b-4224-c28d-fe852e5b5969"
      },
      "execution_count": null,
      "outputs": [
        {
          "output_type": "stream",
          "name": "stdout",
          "text": [
            "[10 11 12 13 14 15 16 17 18 19 20 21 22 23 24 25 26 27 28 29 30 31 32 33\n",
            " 34 35 36 37 38 39 40 41 42 43 44 45 46 47 48 49 50]\n"
          ]
        }
      ]
    },
    {
      "cell_type": "code",
      "source": [
        "# f. Создать массив из четных чисел от 10 до 50\n",
        "a = np.arange(10,51,2)\n",
        "print(a)"
      ],
      "metadata": {
        "colab": {
          "base_uri": "https://localhost:8080/"
        },
        "id": "kYi63UKdc4NS",
        "outputId": "a580498d-3bec-4dc8-988e-32b7413c6e18"
      },
      "execution_count": null,
      "outputs": [
        {
          "output_type": "stream",
          "name": "stdout",
          "text": [
            "[10 12 14 16 18 20 22 24 26 28 30 32 34 36 38 40 42 44 46 48 50]\n"
          ]
        }
      ]
    },
    {
      "cell_type": "code",
      "source": [
        "# g.Создать матрицу 3х3 с числами от 0 до 8\n",
        "a = np.arange(0,9).reshape(3,3)\n",
        "print(a)"
      ],
      "metadata": {
        "colab": {
          "base_uri": "https://localhost:8080/"
        },
        "id": "MhtNnME5ddxI",
        "outputId": "d2288748-65b3-4196-b927-6058413215d9"
      },
      "execution_count": null,
      "outputs": [
        {
          "output_type": "stream",
          "name": "stdout",
          "text": [
            "[[0 1 2]\n",
            " [3 4 5]\n",
            " [6 7 8]]\n"
          ]
        }
      ]
    },
    {
      "cell_type": "code",
      "source": [
        "# h. Создать единичную матрицу 3x3\n",
        "a = np.eye(3)\n",
        "print(a)"
      ],
      "metadata": {
        "colab": {
          "base_uri": "https://localhost:8080/"
        },
        "id": "SCgF4mOudxK8",
        "outputId": "4fc96b0d-f586-454b-91f3-4510a89575b0"
      },
      "execution_count": null,
      "outputs": [
        {
          "output_type": "stream",
          "name": "stdout",
          "text": [
            "[[1. 0. 0.]\n",
            " [0. 1. 0.]\n",
            " [0. 0. 1.]]\n"
          ]
        }
      ]
    },
    {
      "cell_type": "code",
      "source": [
        "# i. Используйте NumPy для генерации случайного числа от 0 до 1 \n",
        "a = np.random.rand()\n",
        "print(a)"
      ],
      "metadata": {
        "colab": {
          "base_uri": "https://localhost:8080/"
        },
        "id": "gt74NKOWeaLS",
        "outputId": "2b7faae4-6b3e-4dd8-a60c-16581d0cbb53"
      },
      "execution_count": null,
      "outputs": [
        {
          "output_type": "stream",
          "name": "stdout",
          "text": [
            "0.8892081390894547\n"
          ]
        }
      ]
    },
    {
      "cell_type": "code",
      "source": [
        "# j.Используйте NumPy для генерации массива из 25 случайных чисел,взятых из стандартного нормального распределения\n",
        "a = np.random.randn(25)\n",
        "print(a)"
      ],
      "metadata": {
        "colab": {
          "base_uri": "https://localhost:8080/"
        },
        "id": "BcIkgns1eqjV",
        "outputId": "f47d13dc-a34b-4015-bacf-a162983b5521"
      },
      "execution_count": null,
      "outputs": [
        {
          "output_type": "stream",
          "name": "stdout",
          "text": [
            "[-0.44285425  0.21947957  0.06336271  0.17023179 -0.02550931 -1.27104388\n",
            "  1.06191063  0.56830706 -0.57452061 -1.4866392   1.00122282 -0.07818414\n",
            "  0.30091308 -0.5918308  -0.17224264 -0.37721781  0.59176391  0.81091944\n",
            " -0.63977659  1.05884013 -0.35474306 -0.48745502  0.02452744  1.15335702\n",
            "  0.50273691]\n"
          ]
        }
      ]
    },
    {
      "cell_type": "code",
      "source": [
        "from numpy.core.getlimits import array\n",
        "# k.Создайте следующую матрицу используя функции библиотеки NumPy\n",
        "# a = np.linspace(0.0, 1.0, num=100)\n",
        "a = np.arange(0.01,1.01,0.01)\n",
        "c = a.reshape(10,-1)\n",
        "print(c)"
      ],
      "metadata": {
        "colab": {
          "base_uri": "https://localhost:8080/"
        },
        "id": "OW4pKi_leyHp",
        "outputId": "e1848ff8-8058-490d-db91-07595cf5cee8"
      },
      "execution_count": null,
      "outputs": [
        {
          "output_type": "stream",
          "name": "stdout",
          "text": [
            "[[0.01 0.02 0.03 0.04 0.05 0.06 0.07 0.08 0.09 0.1 ]\n",
            " [0.11 0.12 0.13 0.14 0.15 0.16 0.17 0.18 0.19 0.2 ]\n",
            " [0.21 0.22 0.23 0.24 0.25 0.26 0.27 0.28 0.29 0.3 ]\n",
            " [0.31 0.32 0.33 0.34 0.35 0.36 0.37 0.38 0.39 0.4 ]\n",
            " [0.41 0.42 0.43 0.44 0.45 0.46 0.47 0.48 0.49 0.5 ]\n",
            " [0.51 0.52 0.53 0.54 0.55 0.56 0.57 0.58 0.59 0.6 ]\n",
            " [0.61 0.62 0.63 0.64 0.65 0.66 0.67 0.68 0.69 0.7 ]\n",
            " [0.71 0.72 0.73 0.74 0.75 0.76 0.77 0.78 0.79 0.8 ]\n",
            " [0.81 0.82 0.83 0.84 0.85 0.86 0.87 0.88 0.89 0.9 ]\n",
            " [0.91 0.92 0.93 0.94 0.95 0.96 0.97 0.98 0.99 1.  ]]\n"
          ]
        }
      ]
    },
    {
      "cell_type": "code",
      "source": [
        "# l. Дана стартовая матрица. Необходимо написать код который вернет следующую матрицу из стартовой\n",
        "mat = np.arange(1,26).reshape(5,5)\n",
        "print(mat)\n",
        "print('-------------------')\n",
        "a = mat[2][1:]\n",
        "b = mat[3][1:]\n",
        "c = mat[4][1:]\n",
        "d = np.array([a,b,c])\n",
        "print(d)"
      ],
      "metadata": {
        "colab": {
          "base_uri": "https://localhost:8080/"
        },
        "id": "PodCSOnDfEr4",
        "outputId": "3c2c4f2e-b210-4c09-9f13-c54dbd6ef7e7"
      },
      "execution_count": null,
      "outputs": [
        {
          "output_type": "stream",
          "name": "stdout",
          "text": [
            "[[ 1  2  3  4  5]\n",
            " [ 6  7  8  9 10]\n",
            " [11 12 13 14 15]\n",
            " [16 17 18 19 20]\n",
            " [21 22 23 24 25]]\n",
            "-------------------\n",
            "[[12 13 14 15]\n",
            " [17 18 19 20]\n",
            " [22 23 24 25]]\n"
          ]
        }
      ]
    },
    {
      "cell_type": "code",
      "source": [
        "# m. Написать код обращения к элементу который вернет значение  20 изстартовой матрицы задачи l.\n",
        "mat = np.arange(1,26).reshape(5,5)\n",
        "print(mat[3][4])"
      ],
      "metadata": {
        "colab": {
          "base_uri": "https://localhost:8080/"
        },
        "id": "_kDGgtIqfw8B",
        "outputId": "7c22a257-e0cf-4816-eb23-363bd97b1cfb"
      },
      "execution_count": null,
      "outputs": [
        {
          "output_type": "stream",
          "name": "stdout",
          "text": [
            "20\n"
          ]
        }
      ]
    },
    {
      "cell_type": "code",
      "source": [
        "# n. Написать код к стартовой матрице задачи l , который воспроизводитвывод, показанный ниже\n",
        "mat = np.arange(1,26).reshape(5,5)\n",
        "a = [mat[0][1]]\n",
        "b = [mat[1][1]]\n",
        "c = [mat[2][1]]\n",
        "d = np.array([a,b,c])\n",
        "print(d)"
      ],
      "metadata": {
        "colab": {
          "base_uri": "https://localhost:8080/"
        },
        "id": "RVxp_84Mf2P7",
        "outputId": "8e60a95d-f786-492c-966a-2ca43386a2e3"
      },
      "execution_count": null,
      "outputs": [
        {
          "output_type": "stream",
          "name": "stdout",
          "text": [
            "[[ 2]\n",
            " [ 7]\n",
            " [12]]\n"
          ]
        }
      ]
    },
    {
      "cell_type": "code",
      "source": [
        "# o. Написать код к стартовой матрице задачи l , который воспроизводитвывод, показанный ниже\n",
        "mat = np.arange(1,26).reshape(5,5)\n",
        "print(mat[4])"
      ],
      "metadata": {
        "colab": {
          "base_uri": "https://localhost:8080/"
        },
        "id": "MGZS7MGagDro",
        "outputId": "d08b20a6-abdd-463b-82c3-65cde58d141c"
      },
      "execution_count": null,
      "outputs": [
        {
          "output_type": "stream",
          "name": "stdout",
          "text": [
            "[21 22 23 24 25]\n"
          ]
        }
      ]
    },
    {
      "cell_type": "code",
      "source": [
        "# p. Написать код к стартовой матрице задачи l , который воспроизводитвывод, показанный ниже\n",
        "mat = np.arange(1,26).reshape(5,5)\n",
        "print(mat[3:5])"
      ],
      "metadata": {
        "colab": {
          "base_uri": "https://localhost:8080/"
        },
        "id": "fd_xBZJLgK5e",
        "outputId": "6df2f12c-bd56-436b-d17d-f76d998b1878"
      },
      "execution_count": null,
      "outputs": [
        {
          "output_type": "stream",
          "name": "stdout",
          "text": [
            "[[16 17 18 19 20]\n",
            " [21 22 23 24 25]]\n"
          ]
        }
      ]
    },
    {
      "cell_type": "code",
      "source": [
        "# q. Получить сумму всех значений в стартовой матрице mat\n",
        "mat = np.arange(1,26).reshape(5,5)\n",
        "print(mat.sum())"
      ],
      "metadata": {
        "colab": {
          "base_uri": "https://localhost:8080/"
        },
        "id": "yANq_bqrgR7z",
        "outputId": "60faf248-38b3-4ba9-f826-fd816d0ed538"
      },
      "execution_count": null,
      "outputs": [
        {
          "output_type": "stream",
          "name": "stdout",
          "text": [
            "325\n"
          ]
        }
      ]
    },
    {
      "cell_type": "code",
      "source": [
        "# r. Получить стандартное отклонение в стартовой матрице mat \n",
        "mat = np.arange(1,26).reshape(5,5)\n",
        "print(mat.std())"
      ],
      "metadata": {
        "colab": {
          "base_uri": "https://localhost:8080/"
        },
        "id": "tqWi-SIngePt",
        "outputId": "ea73445f-6331-47bd-bdd7-0f3e7fa43973"
      },
      "execution_count": null,
      "outputs": [
        {
          "output_type": "stream",
          "name": "stdout",
          "text": [
            "7.211102550927978\n"
          ]
        }
      ]
    },
    {
      "cell_type": "code",
      "source": [
        "# s. Получить сумму значений в колонках в стартовой матрице mat\n",
        "mat = np.arange(1,26).reshape(5,5)\n",
        "print(mat)\n",
        "print('-------------------')\n",
        "print(mat.sum(axis=0))"
      ],
      "metadata": {
        "colab": {
          "base_uri": "https://localhost:8080/"
        },
        "id": "R6C213mpghiN",
        "outputId": "1179f0ec-1ee2-4268-9b9a-523409cf2b94"
      },
      "execution_count": null,
      "outputs": [
        {
          "output_type": "stream",
          "name": "stdout",
          "text": [
            "[[ 1  2  3  4  5]\n",
            " [ 6  7  8  9 10]\n",
            " [11 12 13 14 15]\n",
            " [16 17 18 19 20]\n",
            " [21 22 23 24 25]]\n",
            "-------------------\n",
            "[55 60 65 70 75]\n"
          ]
        }
      ]
    }
  ]
}